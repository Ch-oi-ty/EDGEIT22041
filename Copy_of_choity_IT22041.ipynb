{
  "nbformat": 4,
  "nbformat_minor": 0,
  "metadata": {
    "colab": {
      "provenance": [],
      "toc_visible": true,
      "authorship_tag": "ABX9TyPYTxJqJpbOKi4+X74Xb4MT",
      "include_colab_link": true
    },
    "kernelspec": {
      "name": "python3",
      "display_name": "Python 3"
    },
    "language_info": {
      "name": "python"
    }
  },
  "cells": [
    {
      "cell_type": "markdown",
      "metadata": {
        "id": "view-in-github",
        "colab_type": "text"
      },
      "source": [
        "<a href=\"https://colab.research.google.com/github/Ch-oi-ty/EDGEIT22041/blob/main/Copy_of_choity_IT22041.ipynb\" target=\"_parent\"><img src=\"https://colab.research.google.com/assets/colab-badge.svg\" alt=\"Open In Colab\"/></a>"
      ]
    },
    {
      "cell_type": "code",
      "execution_count": null,
      "metadata": {
        "id": "ZaCN8Z1MMko_"
      },
      "outputs": [],
      "source": [
        "# 1. Integer variable\n",
        "age = 25\n",
        "print(\"Age:\", age)\n",
        "\n",
        "# 2. Float variable\n",
        "height = 5.9\n",
        "print(\"Height:\", height)\n",
        "\n",
        "# 3. String variable\n",
        "name = \"Alice\"\n",
        "print(\"Name:\", name)\n",
        "\n",
        "# 4. Boolean variable\n",
        "is_student = True\n",
        "print(\"Is student:\", is_student)\n",
        "\n",
        "# 5. Variable reassignment\n",
        "age = 26  # Reassigning a new value to the 'age' variable\n",
        "print(\"Updated age:\", age)\n",
        "\n",
        "# 6. Multiple variables in one line\n",
        "x, y, z = 10, 20, 30\n",
        "print(\"x:\", x, \"y:\", y, \"z:\", z)\n",
        "\n",
        "# 7. Type conversion (casting)\n",
        "str_age = str(age)  # Converting integer to string\n",
        "print(\"Age as string:\", str_age)\n",
        "\n",
        "# 8. Variable concatenation\n",
        "greeting = \"Hello, \" + name + \"!\"\n",
        "print(greeting)\n",
        "\n",
        "# 9. Using variables in expressions\n",
        "total = age + height\n",
        "print(\"Total (age + height):\", total)\n",
        "\n",
        "# 10. Constants (Naming convention: all uppercase)\n",
        "PI = 3.14159\n",
        "print(\"Value of PI:\", PI)\n"
      ]
    }
  ]
}